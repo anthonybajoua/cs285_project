{
 "cells": [
  {
   "cell_type": "code",
   "execution_count": 2,
   "metadata": {},
   "outputs": [],
   "source": [
    "import pandas as pd\n",
    "import numpy as np\n",
    "import matplotlib.pyplot as plt\n",
    "import itertools, os, torch\n",
    "\n",
    "from sim import Scheduler, Random, Leitner\n",
    "from data_process import process_original, reduce_df, eval_thresh, reduce_lexemes\n",
    "from get_trajectory import get_traj\n",
    "\n",
    "%load_ext autoreload\n",
    "%autoreload 2"
   ]
  },
  {
   "cell_type": "markdown",
   "metadata": {},
   "source": [
    "## Load data (clean if necesarry)"
   ]
  },
  {
   "cell_type": "code",
   "execution_count": 3,
   "metadata": {},
   "outputs": [],
   "source": [
    "if not os.path.exists(\"data/cleaned.csv\"):\n",
    "    process_original()\n",
    "    \n",
    "\n",
    "df = pd.read_csv(\"data/cleaned.csv\")"
   ]
  },
  {
   "cell_type": "markdown",
   "metadata": {},
   "source": [
    "## Data Exploration"
   ]
  },
  {
   "cell_type": "code",
   "execution_count": 4,
   "metadata": {},
   "outputs": [
    {
     "data": {
      "text/plain": [
       "learning_language\n",
       "0    1452597\n",
       "1    5014791\n",
       "2    3407689\n",
       "3    1873734\n",
       "4     793935\n",
       "5     311480\n",
       "Name: user_id, dtype: int64"
      ]
     },
     "execution_count": 4,
     "metadata": {},
     "output_type": "execute_result"
    }
   ],
   "source": [
    "lang_map = {'de' : 0, 'en': 1, 'es': 2, 'fr': 3, 'it': 4, 'pt': 5}\n",
    "l_map = pd.read_csv(\"data/lexeme_map.csv\")\n",
    "\n",
    "df.groupby('learning_language').count().loc[:, 'user_id']"
   ]
  },
  {
   "cell_type": "markdown",
   "metadata": {},
   "source": [
    "We have about 5 million english items, 3 million Spanish 1.9 million French and 1.4 million German. Italian and Portugese each have hundreds of thousands. It would be useful to restrict out studies to just the English users so we reduce the dimensionality of our action and state spaces.\n",
    "\n",
    "There are 43.8 thousand learners (trajectories) we have to provide our RL agents.\n",
    "\n"
   ]
  },
  {
   "cell_type": "code",
   "execution_count": 5,
   "metadata": {},
   "outputs": [],
   "source": [
    "df = df.loc[df['learning_language'] == 1].copy()\n",
    "df = df.drop(['learning_language'], axis=1)\n",
    "reduce_df(df)\n",
    "df.loc[:, 'difficulty'] = df.loc[:, 'difficulty'].astype(np.float32)"
   ]
  },
  {
   "cell_type": "code",
   "execution_count": 6,
   "metadata": {},
   "outputs": [
    {
     "name": "stdout",
     "output_type": "stream",
     "text": [
      "There are 2983 lexemes\n"
     ]
    }
   ],
   "source": [
    "english_counts = df.groupby('lexeme_id').count().loc[:, 'timestamp']\n",
    "n_lex = len(english_counts)\n",
    "print(f\"There are {n_lex} lexemes\")"
   ]
  },
  {
   "cell_type": "code",
   "execution_count": 7,
   "metadata": {},
   "outputs": [
    {
     "name": "stdout",
     "output_type": "stream",
     "text": [
      "For threshold 500 there are 24.81% lexemes above and 75.19% below\n",
      "\n",
      "There would be 94.46% of data included and 5.54% of data excluded\n"
     ]
    }
   ],
   "source": [
    "n_items = int(500)\n",
    "\n",
    "eval_thresh(df, english_counts, n_items)"
   ]
  },
  {
   "cell_type": "code",
   "execution_count": 8,
   "metadata": {},
   "outputs": [],
   "source": [
    "idx_to_lex , lex_to_idx = {}, {}\n",
    "df, included = reduce_lexemes(df, n_items)\n",
    "\n",
    "states, actions, i_t_l, l_t_i = get_traj(df, included)"
   ]
  },
  {
   "cell_type": "markdown",
   "metadata": {},
   "source": [
    "## Run behavioral cloning"
   ]
  },
  {
   "cell_type": "code",
   "execution_count": 49,
   "metadata": {},
   "outputs": [],
   "source": [
    "import torch.nn as nn\n",
    "import torch\n",
    "import random\n",
    "import cs285.infrastructure.pytorch_util as ptu"
   ]
  },
  {
   "cell_type": "code",
   "execution_count": 50,
   "metadata": {},
   "outputs": [],
   "source": [
    "traj_idxs = list(states.keys())\n",
    "def sample_traj(states, actions, batch_size):\n",
    "    idxs = random.choices(traj_idxs, k=batch_size)\n",
    "    first_idx = idxs.pop()\n",
    "    states_cat = states[first_idx]\n",
    "    actions_cat = actions[first_idx]\n",
    "    while states_cat.shape[0] < batch_size:\n",
    "        new_idx = idxs.pop()\n",
    "        states_cat = np.concatenate((states_cat, states[new_idx]))\n",
    "        actions_cat = np.concatenate((actions_cat, actions[new_idx]))\n",
    "    return states_cat, actions_cat"
   ]
  },
  {
   "cell_type": "code",
   "execution_count": 60,
   "metadata": {},
   "outputs": [],
   "source": [
    "state1, act1 = sample_traj(states, actions, 1)\n",
    "input_size = state1.shape[1]\n",
    "output_size = act1.shape[1]\n",
    "hidden_size = 128\n",
    "hidden_num = 2\n",
    "activation = nn.Sigmoid\n",
    "bc_loss = nn.MSELoss()\n",
    "layers = [nn.Linear(input_size, hidden_size), activation()]\n",
    "for i in range(hidden_num):\n",
    "    layers.append(nn.Linear(hidden_size, hidden_size))\n",
    "    layers.append(activation())\n",
    "layers.append(nn.Linear(hidden_size, output_size))\n",
    "bc_nn = nn.Sequential(*layers)\n",
    "optimizer = torch.optim.Adam(bc_nn.parameters(), lr=.00005)"
   ]
  },
  {
   "cell_type": "code",
   "execution_count": 61,
   "metadata": {},
   "outputs": [],
   "source": [
    "train_iters = 1000\n",
    "losses = []\n",
    "batch_size = 100\n",
    "\n",
    "for i in range(train_iters):\n",
    "    optimizer.zero_grad()\n",
    "    s, a = sample_traj(states, actions, batch_size)\n",
    "    result = bc_nn(ptu.from_numpy(s))\n",
    "    loss = bc_loss(result, ptu.from_numpy(a))\n",
    "    loss.backward()\n",
    "    optimizer.step()\n",
    "    losses.append(loss)"
   ]
  },
  {
   "cell_type": "code",
   "execution_count": 59,
   "metadata": {},
   "outputs": [
    {
     "data": {
      "text/plain": [
       "[<matplotlib.lines.Line2D at 0x1e2a131abe0>]"
      ]
     },
     "execution_count": 59,
     "metadata": {},
     "output_type": "execute_result"
    },
    {
     "data": {
      "image/png": "[encoded data removed]",
      "text/plain": [
       "<Figure size 432x288 with 1 Axes>"
      ]
     },
     "metadata": {
      "needs_background": "light"
     },
     "output_type": "display_data"
    }
   ],
   "source": [
    "plt.plot(losses)"
   ]
  }
 ],
 "metadata": {
  "kernelspec": {
   "display_name": "Python 3",
   "language": "python",
   "name": "python3"
  },
  "language_info": {
   "codemirror_mode": {
    "name": "ipython",
    "version": 3
   },
   "file_extension": ".py",
   "mimetype": "text/x-python",
   "name": "python",
   "nbconvert_exporter": "python",
   "pygments_lexer": "ipython3",
   "version": "3.6.10"
  }
 },
 "nbformat": 4,
 "nbformat_minor": 4
}
