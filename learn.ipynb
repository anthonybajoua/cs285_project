{
 "cells": [
  {
   "cell_type": "code",
   "execution_count": 9,
   "metadata": {},
   "outputs": [],
   "source": [
    "import pandas as pd\n",
    "import numpy as np\n",
    "import matplotlib.pyplot as plt\n",
    "import itertools, os, torch\n",
    "\n",
    "from sim import Scheduler, Random, Leitner\n",
    "from data_process import process_original, reduce_df, eval_thresh, reduce_lexemes\n",
    "from get_trajectory import get_traj\n",
    "\n",
    "%load_ext autoreload\n",
    "%autoreload 2"
   ]
  },
  {
   "cell_type": "code",
   "execution_count": 10,
   "metadata": {},
   "outputs": [
    {
     "name": "stdout",
     "output_type": "stream",
     "text": [
      "cleaned.csv    lexeme_map.csv\r\n"
     ]
    }
   ],
   "source": [
    "!cd data && ls"
   ]
  },
  {
   "cell_type": "markdown",
   "metadata": {},
   "source": [
    "## Load data (clean if necesarry)"
   ]
  },
  {
   "cell_type": "code",
   "execution_count": 11,
   "metadata": {},
   "outputs": [],
   "source": [
    "if not os.path.exists(\"data/cleaned.csv\"):\n",
    "    process_original()\n",
    "    \n",
    "\n",
    "df = pd.read_csv(\"data/cleaned.csv\")"
   ]
  },
  {
   "cell_type": "markdown",
   "metadata": {},
   "source": [
    "## Data Exploration"
   ]
  },
  {
   "cell_type": "code",
   "execution_count": 12,
   "metadata": {},
   "outputs": [
    {
     "data": {
      "text/plain": [
       "learning_language\n",
       "0    1452597\n",
       "1    5014791\n",
       "2    3407689\n",
       "3    1873734\n",
       "4     793935\n",
       "5     311480\n",
       "Name: user_id, dtype: int64"
      ]
     },
     "execution_count": 12,
     "metadata": {},
     "output_type": "execute_result"
    }
   ],
   "source": [
    "lang_map = {'de' : 0, 'en': 1, 'es': 2, 'fr': 3, 'it': 4, 'pt': 5}\n",
    "l_map = pd.read_csv(\"data/lexeme_map.csv\")\n",
    "\n",
    "df.groupby('learning_language').count().loc[:, 'user_id']"
   ]
  },
  {
   "cell_type": "markdown",
   "metadata": {},
   "source": [
    "We have about 5 million english items, 3 million Spanish 1.9 million French and 1.4 million German. Italian and Portugese each have hundreds of thousands. It would be useful to restrict out studies to just the English users so we reduce the dimensionality of our action and state spaces.\n",
    "\n",
    "There are 43.8 thousand learners (trajectories) we have to provide our RL agents.\n",
    "\n"
   ]
  },
  {
   "cell_type": "code",
   "execution_count": 13,
   "metadata": {},
   "outputs": [],
   "source": [
    "df = df.loc[df['learning_language'] == 1].copy()\n",
    "df = df.drop(['learning_language'], axis=1)\n",
    "reduce_df(df)\n",
    "df.loc[:, 'difficulty'] = df.loc[:, 'difficulty'].astype(np.float32)\n",
    "\n",
    "\n",
    "df.loc[:, 'difficulty'] -= df.loc[:, 'difficulty'].mean()\n",
    "df.loc[:, 'difficulty'] /= df.loc[:, 'difficulty'].std()"
   ]
  },
  {
   "cell_type": "code",
   "execution_count": 14,
   "metadata": {},
   "outputs": [
    {
     "name": "stdout",
     "output_type": "stream",
     "text": [
      "There are 2983 lexemes\n"
     ]
    }
   ],
   "source": [
    "english_counts = df.groupby('lexeme_id').count().loc[:, 'timestamp']\n",
    "n_lex = len(english_counts)\n",
    "print(f\"There are {n_lex} lexemes\")"
   ]
  },
  {
   "cell_type": "code",
   "execution_count": 15,
   "metadata": {},
   "outputs": [
    {
     "name": "stdout",
     "output_type": "stream",
     "text": [
      "For threshold 500 there are 24.81% lexemes above and 75.19% below\n",
      "\n",
      "There would be 94.46% of data included and 5.54% of data excluded\n"
     ]
    }
   ],
   "source": [
    "n_items = int(500)\n",
    "\n",
    "eval_thresh(df, english_counts, n_items)"
   ]
  },
  {
   "cell_type": "code",
   "execution_count": 16,
   "metadata": {},
   "outputs": [],
   "source": [
    "idx_to_lex , lex_to_idx = {}, {}\n",
    "df, included = reduce_lexemes(df, n_items)"
   ]
  },
  {
   "cell_type": "code",
   "execution_count": null,
   "metadata": {},
   "outputs": [],
   "source": []
  },
  {
   "cell_type": "code",
   "execution_count": 55,
   "metadata": {},
   "outputs": [],
   "source": [
    "states, actions, itl, lti = get_traj(df, included)\n"
   ]
  },
  {
   "cell_type": "code",
   "execution_count": 54,
   "metadata": {},
   "outputs": [
    {
     "data": {
      "text/html": [
       "<div>\n",
       "<style scoped>\n",
       "    .dataframe tbody tr th:only-of-type {\n",
       "        vertical-align: middle;\n",
       "    }\n",
       "\n",
       "    .dataframe tbody tr th {\n",
       "        vertical-align: top;\n",
       "    }\n",
       "\n",
       "    .dataframe thead th {\n",
       "        text-align: right;\n",
       "    }\n",
       "</style>\n",
       "<table border=\"1\" class=\"dataframe\">\n",
       "  <thead>\n",
       "    <tr style=\"text-align: right;\">\n",
       "      <th></th>\n",
       "      <th>timestamp</th>\n",
       "      <th>user_id</th>\n",
       "      <th>ui_language</th>\n",
       "      <th>lexeme_id</th>\n",
       "      <th>history_seen</th>\n",
       "      <th>history_correct</th>\n",
       "      <th>session_seen</th>\n",
       "      <th>session_correct</th>\n",
       "      <th>difficulty</th>\n",
       "      <th>lex_user</th>\n",
       "      <th>session</th>\n",
       "      <th>ts_user</th>\n",
       "    </tr>\n",
       "  </thead>\n",
       "  <tbody>\n",
       "    <tr>\n",
       "      <th>367</th>\n",
       "      <td>1362687858</td>\n",
       "      <td>3</td>\n",
       "      <td>5</td>\n",
       "      <td>147</td>\n",
       "      <td>184</td>\n",
       "      <td>164</td>\n",
       "      <td>2</td>\n",
       "      <td>2</td>\n",
       "      <td>-0.216559</td>\n",
       "      <td>207</td>\n",
       "      <td>21</td>\n",
       "      <td>41</td>\n",
       "    </tr>\n",
       "    <tr>\n",
       "      <th>781</th>\n",
       "      <td>1363100819</td>\n",
       "      <td>3</td>\n",
       "      <td>5</td>\n",
       "      <td>147</td>\n",
       "      <td>186</td>\n",
       "      <td>166</td>\n",
       "      <td>2</td>\n",
       "      <td>2</td>\n",
       "      <td>-0.216559</td>\n",
       "      <td>207</td>\n",
       "      <td>59</td>\n",
       "      <td>79</td>\n",
       "    </tr>\n",
       "    <tr>\n",
       "      <th>802</th>\n",
       "      <td>1363101153</td>\n",
       "      <td>3</td>\n",
       "      <td>5</td>\n",
       "      <td>147</td>\n",
       "      <td>188</td>\n",
       "      <td>168</td>\n",
       "      <td>1</td>\n",
       "      <td>1</td>\n",
       "      <td>-0.216559</td>\n",
       "      <td>207</td>\n",
       "      <td>60</td>\n",
       "      <td>80</td>\n",
       "    </tr>\n",
       "    <tr>\n",
       "      <th>806</th>\n",
       "      <td>1363101527</td>\n",
       "      <td>3</td>\n",
       "      <td>5</td>\n",
       "      <td>147</td>\n",
       "      <td>189</td>\n",
       "      <td>169</td>\n",
       "      <td>1</td>\n",
       "      <td>1</td>\n",
       "      <td>-0.216559</td>\n",
       "      <td>207</td>\n",
       "      <td>61</td>\n",
       "      <td>81</td>\n",
       "    </tr>\n",
       "  </tbody>\n",
       "</table>\n",
       "</div>"
      ],
      "text/plain": [
       "      timestamp  user_id  ui_language  lexeme_id  history_seen  \\\n",
       "367  1362687858        3            5        147           184   \n",
       "781  1363100819        3            5        147           186   \n",
       "802  1363101153        3            5        147           188   \n",
       "806  1363101527        3            5        147           189   \n",
       "\n",
       "     history_correct  session_seen  session_correct  difficulty  lex_user  \\\n",
       "367              164             2                2   -0.216559       207   \n",
       "781              166             2                2   -0.216559       207   \n",
       "802              168             1                1   -0.216559       207   \n",
       "806              169             1                1   -0.216559       207   \n",
       "\n",
       "     session  ts_user  \n",
       "367       21       41  \n",
       "781       59       79  \n",
       "802       60       80  \n",
       "806       61       81  "
      ]
     },
     "execution_count": 54,
     "metadata": {},
     "output_type": "execute_result"
    }
   ],
   "source": [
    "d = df.sort_values(by=['lex_user'])\n",
    "df.loc[(df['user_id'] == 3) & (df['lexeme_id'] == 147)].sort_values(by='timestamp')"
   ]
  },
  {
   "cell_type": "code",
   "execution_count": 51,
   "metadata": {},
   "outputs": [],
   "source": [
    "c = lti[147]\n",
    "c_s = c * 4"
   ]
  },
  {
   "cell_type": "code",
   "execution_count": 52,
   "metadata": {},
   "outputs": [
    {
     "data": {
      "text/plain": [
       "array([[184.        , 164.        ,  -0.21655871,   0.        ],\n",
       "       [184.        , 164.        ,  -0.21655871,   1.        ],\n",
       "       [184.        , 164.        ,  -0.21655871,   2.        ],\n",
       "       [184.        , 164.        ,  -0.21655871,   3.        ],\n",
       "       [184.        , 164.        ,  -0.21655871,   4.        ],\n",
       "       [184.        , 164.        ,  -0.21655871,   5.        ],\n",
       "       [184.        , 164.        ,  -0.21655871,   6.        ],\n",
       "       [184.        , 164.        ,  -0.21655871,   7.        ],\n",
       "       [184.        , 164.        ,  -0.21655871,   8.        ],\n",
       "       [184.        , 164.        ,  -0.21655871,   9.        ],\n",
       "       [184.        , 164.        ,  -0.21655871,  10.        ],\n",
       "       [184.        , 164.        ,  -0.21655871,  11.        ],\n",
       "       [184.        , 164.        ,  -0.21655871,  12.        ],\n",
       "       [184.        , 164.        ,  -0.21655871,  13.        ],\n",
       "       [184.        , 164.        ,  -0.21655871,  14.        ],\n",
       "       [184.        , 164.        ,  -0.21655871,  15.        ],\n",
       "       [184.        , 164.        ,  -0.21655871,  16.        ],\n",
       "       [184.        , 164.        ,  -0.21655871,  17.        ],\n",
       "       [184.        , 164.        ,  -0.21655871,  18.        ],\n",
       "       [184.        , 164.        ,  -0.21655871,  19.        ],\n",
       "       [184.        , 164.        ,  -0.21655871,   0.        ],\n",
       "       [186.        , 166.        ,  -0.21655871,   1.        ],\n",
       "       [186.        , 166.        ,  -0.21655871,   2.        ],\n",
       "       [186.        , 166.        ,  -0.21655871,   3.        ],\n",
       "       [186.        , 166.        ,  -0.21655871,   4.        ],\n",
       "       [186.        , 166.        ,  -0.21655871,   5.        ],\n",
       "       [186.        , 166.        ,  -0.21655871,   6.        ],\n",
       "       [186.        , 166.        ,  -0.21655871,   7.        ],\n",
       "       [186.        , 166.        ,  -0.21655871,   8.        ],\n",
       "       [186.        , 166.        ,  -0.21655871,   9.        ],\n",
       "       [186.        , 166.        ,  -0.21655871,  10.        ],\n",
       "       [186.        , 166.        ,  -0.21655871,  11.        ],\n",
       "       [186.        , 166.        ,  -0.21655871,  12.        ],\n",
       "       [186.        , 166.        ,  -0.21655871,  13.        ],\n",
       "       [186.        , 166.        ,  -0.21655871,  14.        ],\n",
       "       [186.        , 166.        ,  -0.21655871,  15.        ],\n",
       "       [186.        , 166.        ,  -0.21655871,  16.        ],\n",
       "       [186.        , 166.        ,  -0.21655871,  17.        ],\n",
       "       [186.        , 166.        ,  -0.21655871,  18.        ],\n",
       "       [186.        , 166.        ,  -0.21655871,  19.        ],\n",
       "       [186.        , 166.        ,  -0.21655871,  20.        ],\n",
       "       [186.        , 166.        ,  -0.21655871,  21.        ],\n",
       "       [186.        , 166.        ,  -0.21655871,  22.        ],\n",
       "       [186.        , 166.        ,  -0.21655871,  23.        ],\n",
       "       [186.        , 166.        ,  -0.21655871,  24.        ],\n",
       "       [186.        , 166.        ,  -0.21655871,  25.        ],\n",
       "       [186.        , 166.        ,  -0.21655871,  26.        ],\n",
       "       [186.        , 166.        ,  -0.21655871,  27.        ],\n",
       "       [186.        , 166.        ,  -0.21655871,  28.        ],\n",
       "       [186.        , 166.        ,  -0.21655871,  29.        ],\n",
       "       [186.        , 166.        ,  -0.21655871,  30.        ],\n",
       "       [186.        , 166.        ,  -0.21655871,  31.        ],\n",
       "       [186.        , 166.        ,  -0.21655871,  32.        ],\n",
       "       [186.        , 166.        ,  -0.21655871,  33.        ],\n",
       "       [186.        , 166.        ,  -0.21655871,  34.        ],\n",
       "       [186.        , 166.        ,  -0.21655871,  35.        ],\n",
       "       [186.        , 166.        ,  -0.21655871,  36.        ],\n",
       "       [186.        , 166.        ,  -0.21655871,  37.        ],\n",
       "       [186.        , 166.        ,  -0.21655871,   0.        ],\n",
       "       [188.        , 168.        ,  -0.21655871,   0.        ],\n",
       "       [189.        , 169.        ,  -0.21655871,   0.        ],\n",
       "       [190.        , 170.        ,  -0.21655871,   1.        ]])"
      ]
     },
     "execution_count": 52,
     "metadata": {},
     "output_type": "execute_result"
    }
   ],
   "source": [
    "s = states[3][:, c_s: c_s+4]\n",
    "s"
   ]
  },
  {
   "cell_type": "code",
   "execution_count": 53,
   "metadata": {},
   "outputs": [
    {
     "data": {
      "text/plain": [
       "array([2., 0., 0., 0., 0., 0., 0., 0., 0., 0., 0., 0., 0., 0., 0., 0., 0.,\n",
       "       0., 0., 0., 2., 0., 0., 0., 0., 0., 0., 0., 0., 0., 0., 0., 0., 0.,\n",
       "       0., 0., 0., 0., 0., 0., 0., 0., 0., 0., 0., 0., 0., 0., 0., 0., 0.,\n",
       "       0., 0., 0., 0., 0., 0., 0., 2., 1., 1., 0.])"
      ]
     },
     "execution_count": 53,
     "metadata": {},
     "output_type": "execute_result"
    }
   ],
   "source": [
    "actions[3][:, c]"
   ]
  },
  {
   "cell_type": "code",
   "execution_count": null,
   "metadata": {},
   "outputs": [],
   "source": []
  }
 ],
 "metadata": {
  "kernelspec": {
   "display_name": "Python 3",
   "language": "python",
   "name": "python3"
  },
  "language_info": {
   "codemirror_mode": {
    "name": "ipython",
    "version": 3
   },
   "file_extension": ".py",
   "mimetype": "text/x-python",
   "name": "python",
   "nbconvert_exporter": "python",
   "pygments_lexer": "ipython3",
   "version": "3.8.3"
  }
 },
 "nbformat": 4,
 "nbformat_minor": 4
}
