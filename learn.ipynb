{
 "cells": [
  {
   "cell_type": "code",
   "execution_count": 1,
   "metadata": {},
   "outputs": [],
   "source": [
    "import pandas as pd\n",
    "import numpy as np\n",
    "import matplotlib.pyplot as plt\n",
    "import itertools, os, torch\n",
    "\n",
    "from sim import Scheduler, Random, Leitner\n",
    "from data_process import process_original, reduce_df, eval_thresh, reduce_lexemes\n",
    "from get_trajectory import get_traj\n",
    "\n",
    "%load_ext autoreload\n",
    "%autoreload 2"
   ]
  },
  {
   "cell_type": "markdown",
   "metadata": {},
   "source": [
    "## Load data (clean if necesarry)"
   ]
  },
  {
   "cell_type": "code",
   "execution_count": 2,
   "metadata": {},
   "outputs": [],
   "source": [
    "if not os.path.exists(\"data/cleaned.csv\"):\n",
    "    process_original()\n",
    "    \n",
    "\n",
    "df = pd.read_csv(\"data/cleaned.csv\")"
   ]
  },
  {
   "cell_type": "markdown",
   "metadata": {},
   "source": [
    "## Data Exploration"
   ]
  },
  {
   "cell_type": "code",
   "execution_count": 3,
   "metadata": {},
   "outputs": [
    {
     "data": {
      "text/plain": [
       "learning_language\n",
       "0    1452597\n",
       "1    5014791\n",
       "2    3407689\n",
       "3    1873734\n",
       "4     793935\n",
       "5     311480\n",
       "Name: user_id, dtype: int64"
      ]
     },
     "execution_count": 3,
     "metadata": {},
     "output_type": "execute_result"
    }
   ],
   "source": [
    "lang_map = {'de' : 0, 'en': 1, 'es': 2, 'fr': 3, 'it': 4, 'pt': 5}\n",
    "l_map = pd.read_csv(\"data/lexeme_map.csv\")\n",
    "\n",
    "df.groupby('learning_language').count().loc[:, 'user_id']"
   ]
  },
  {
   "cell_type": "markdown",
   "metadata": {},
   "source": [
    "We have about 5 million english items, 3 million Spanish 1.9 million French and 1.4 million German. Italian and Portugese each have hundreds of thousands. It would be useful to restrict out studies to just the English users so we reduce the dimensionality of our action and state spaces.\n",
    "\n",
    "There are 43.8 thousand learners (trajectories) we have to provide our RL agents.\n",
    "\n"
   ]
  },
  {
   "cell_type": "code",
   "execution_count": 4,
   "metadata": {},
   "outputs": [],
   "source": [
    "df = df.loc[df['learning_language'] == 1].copy()\n",
    "df = df.drop(['learning_language'], axis=1)\n",
    "reduce_df(df)\n",
    "df.loc[:, 'difficulty'] = df.loc[:, 'difficulty'].astype(np.float32)"
   ]
  },
  {
   "cell_type": "code",
   "execution_count": 5,
   "metadata": {},
   "outputs": [
    {
     "name": "stdout",
     "output_type": "stream",
     "text": [
      "There are 2983 lexemes\n"
     ]
    }
   ],
   "source": [
    "english_counts = df.groupby('lexeme_id').count().loc[:, 'timestamp']\n",
    "n_lex = len(english_counts)\n",
    "print(f\"There are {n_lex} lexemes\")"
   ]
  },
  {
   "cell_type": "code",
   "execution_count": 6,
   "metadata": {},
   "outputs": [
    {
     "name": "stdout",
     "output_type": "stream",
     "text": [
      "For threshold 500 there are 24.81% lexemes above and 75.19% below\n",
      "\n",
      "There would be 94.46% of data included and 5.54% of data excluded\n"
     ]
    }
   ],
   "source": [
    "n_items = int(500)\n",
    "\n",
    "eval_thresh(df, english_counts, n_items)"
   ]
  },
  {
   "cell_type": "code",
   "execution_count": 7,
   "metadata": {},
   "outputs": [],
   "source": [
    "idx_to_lex , lex_to_idx = {}, {}\n",
    "df, included = reduce_lexemes(df, n_items)\n",
    "\n",
    "states, actions, i_t_l, l_t_i = get_traj(df, included)"
   ]
  },
  {
   "cell_type": "code",
   "execution_count": 109,
   "metadata": {},
   "outputs": [],
   "source": [
    "paths = []\n",
    "for i in list(states.keys())[:1000]:\n",
    "    n_obs = np.roll(states[i], -1, axis=0)\n",
    "    n_obs[n_obs.shape[0]-1, :] = 0\n",
    "    terminals = np.zeros(n_obs.shape[0])\n",
    "    terminals[terminals.shape[0]-1] = 1\n",
    "    rewards = np.zeros(n_obs.shape[0])\n",
    "    paths.append({\n",
    "        \"observation\": states[i],\n",
    "        \"action\": actions[i],\n",
    "        \"next_observation\": n_obs,\n",
    "        \"terminal\": terminals,\n",
    "        \"reward\": rewards\n",
    "    })\n",
    "    "
   ]
  },
  {
   "cell_type": "code",
   "execution_count": 16,
   "metadata": {},
   "outputs": [
    {
     "ename": "MemoryError",
     "evalue": "",
     "output_type": "error",
     "traceback": [
      "\u001b[1;31m---------------------------------------------------------------------------\u001b[0m",
      "\u001b[1;31mMemoryError\u001b[0m                               Traceback (most recent call last)",
      "\u001b[1;32m<ipython-input-16-f0aaf3154fec>\u001b[0m in \u001b[0;36m<module>\u001b[1;34m()\u001b[0m\n\u001b[0;32m      3\u001b[0m         \u001b[1;34m\"actions\"\u001b[0m\u001b[1;33m:\u001b[0m \u001b[0mactions\u001b[0m\u001b[1;33m\u001b[0m\u001b[1;33m\u001b[0m\u001b[0m\n\u001b[0;32m      4\u001b[0m     }\n\u001b[1;32m----> 5\u001b[1;33m \u001b[0mnp\u001b[0m\u001b[1;33m.\u001b[0m\u001b[0msave\u001b[0m\u001b[1;33m(\u001b[0m\u001b[1;34m'trajectories.npy'\u001b[0m\u001b[1;33m,\u001b[0m \u001b[0mtraj_dict\u001b[0m\u001b[1;33m)\u001b[0m\u001b[1;33m\u001b[0m\u001b[1;33m\u001b[0m\u001b[0m\n\u001b[0m",
      "\u001b[1;32m<__array_function__ internals>\u001b[0m in \u001b[0;36msave\u001b[1;34m(*args, **kwargs)\u001b[0m\n",
      "\u001b[1;32mC:\\Users\\Sarah\\.conda\\envs\\285proj\\lib\\site-packages\\numpy\\lib\\npyio.py\u001b[0m in \u001b[0;36msave\u001b[1;34m(file, arr, allow_pickle, fix_imports)\u001b[0m\n\u001b[0;32m    527\u001b[0m         \u001b[0marr\u001b[0m \u001b[1;33m=\u001b[0m \u001b[0mnp\u001b[0m\u001b[1;33m.\u001b[0m\u001b[0masanyarray\u001b[0m\u001b[1;33m(\u001b[0m\u001b[0marr\u001b[0m\u001b[1;33m)\u001b[0m\u001b[1;33m\u001b[0m\u001b[1;33m\u001b[0m\u001b[0m\n\u001b[0;32m    528\u001b[0m         format.write_array(fid, arr, allow_pickle=allow_pickle,\n\u001b[1;32m--> 529\u001b[1;33m                            pickle_kwargs=dict(fix_imports=fix_imports))\n\u001b[0m\u001b[0;32m    530\u001b[0m \u001b[1;33m\u001b[0m\u001b[0m\n\u001b[0;32m    531\u001b[0m \u001b[1;33m\u001b[0m\u001b[0m\n",
      "\u001b[1;32mC:\\Users\\Sarah\\.conda\\envs\\285proj\\lib\\site-packages\\numpy\\lib\\format.py\u001b[0m in \u001b[0;36mwrite_array\u001b[1;34m(fp, array, version, allow_pickle, pickle_kwargs)\u001b[0m\n\u001b[0;32m    662\u001b[0m         \u001b[1;32mif\u001b[0m \u001b[0mpickle_kwargs\u001b[0m \u001b[1;32mis\u001b[0m \u001b[1;32mNone\u001b[0m\u001b[1;33m:\u001b[0m\u001b[1;33m\u001b[0m\u001b[1;33m\u001b[0m\u001b[0m\n\u001b[0;32m    663\u001b[0m             \u001b[0mpickle_kwargs\u001b[0m \u001b[1;33m=\u001b[0m \u001b[1;33m{\u001b[0m\u001b[1;33m}\u001b[0m\u001b[1;33m\u001b[0m\u001b[1;33m\u001b[0m\u001b[0m\n\u001b[1;32m--> 664\u001b[1;33m         \u001b[0mpickle\u001b[0m\u001b[1;33m.\u001b[0m\u001b[0mdump\u001b[0m\u001b[1;33m(\u001b[0m\u001b[0marray\u001b[0m\u001b[1;33m,\u001b[0m \u001b[0mfp\u001b[0m\u001b[1;33m,\u001b[0m \u001b[0mprotocol\u001b[0m\u001b[1;33m=\u001b[0m\u001b[1;36m3\u001b[0m\u001b[1;33m,\u001b[0m \u001b[1;33m**\u001b[0m\u001b[0mpickle_kwargs\u001b[0m\u001b[1;33m)\u001b[0m\u001b[1;33m\u001b[0m\u001b[1;33m\u001b[0m\u001b[0m\n\u001b[0m\u001b[0;32m    665\u001b[0m     \u001b[1;32melif\u001b[0m \u001b[0marray\u001b[0m\u001b[1;33m.\u001b[0m\u001b[0mflags\u001b[0m\u001b[1;33m.\u001b[0m\u001b[0mf_contiguous\u001b[0m \u001b[1;32mand\u001b[0m \u001b[1;32mnot\u001b[0m \u001b[0marray\u001b[0m\u001b[1;33m.\u001b[0m\u001b[0mflags\u001b[0m\u001b[1;33m.\u001b[0m\u001b[0mc_contiguous\u001b[0m\u001b[1;33m:\u001b[0m\u001b[1;33m\u001b[0m\u001b[1;33m\u001b[0m\u001b[0m\n\u001b[0;32m    666\u001b[0m         \u001b[1;32mif\u001b[0m \u001b[0misfileobj\u001b[0m\u001b[1;33m(\u001b[0m\u001b[0mfp\u001b[0m\u001b[1;33m)\u001b[0m\u001b[1;33m:\u001b[0m\u001b[1;33m\u001b[0m\u001b[1;33m\u001b[0m\u001b[0m\n",
      "\u001b[1;31mMemoryError\u001b[0m: "
     ]
    }
   ],
   "source": [
    "traj_dict = {\n",
    "        \"states\": states,\n",
    "        \"actions\": actions\n",
    "    }"
   ]
  },
  {
   "cell_type": "code",
   "execution_count": 29,
   "metadata": {},
   "outputs": [
    {
     "ename": "MemoryError",
     "evalue": "",
     "output_type": "error",
     "traceback": [
      "\u001b[1;31m---------------------------------------------------------------------------\u001b[0m",
      "\u001b[1;31mMemoryError\u001b[0m                               Traceback (most recent call last)",
      "\u001b[1;32m<ipython-input-29-18146370bee7>\u001b[0m in \u001b[0;36m<module>\u001b[1;34m()\u001b[0m\n\u001b[0;32m      1\u001b[0m \u001b[1;32mimport\u001b[0m \u001b[0mpickle\u001b[0m\u001b[1;33m\u001b[0m\u001b[1;33m\u001b[0m\u001b[0m\n\u001b[0;32m      2\u001b[0m \u001b[1;32mwith\u001b[0m \u001b[0mopen\u001b[0m\u001b[1;33m(\u001b[0m\u001b[1;34m'states.pkl'\u001b[0m\u001b[1;33m,\u001b[0m \u001b[1;34m'wb'\u001b[0m\u001b[1;33m)\u001b[0m \u001b[1;32mas\u001b[0m \u001b[0mt\u001b[0m\u001b[1;33m:\u001b[0m\u001b[1;33m\u001b[0m\u001b[1;33m\u001b[0m\u001b[0m\n\u001b[1;32m----> 3\u001b[1;33m     \u001b[0mpickle\u001b[0m\u001b[1;33m.\u001b[0m\u001b[0mdump\u001b[0m\u001b[1;33m(\u001b[0m\u001b[0mstates\u001b[0m\u001b[1;33m,\u001b[0m \u001b[0mt\u001b[0m\u001b[1;33m)\u001b[0m\u001b[1;33m\u001b[0m\u001b[1;33m\u001b[0m\u001b[0m\n\u001b[0m",
      "\u001b[1;31mMemoryError\u001b[0m: "
     ]
    }
   ],
   "source": [
    "import pickle\n",
    "with open('states.pkl', 'wb') as t:\n",
    "    pickle.dump(states, t)"
   ]
  },
  {
   "cell_type": "markdown",
   "metadata": {},
   "source": [
    "## Run behavioral cloning"
   ]
  },
  {
   "cell_type": "code",
   "execution_count": 40,
   "metadata": {},
   "outputs": [],
   "source": [
    "from cs285.scripts.run_bc import BC_Trainer\n",
    "import time"
   ]
  },
  {
   "cell_type": "code",
   "execution_count": 114,
   "metadata": {},
   "outputs": [],
   "source": [
    "#@title runtime arguments\n",
    "\n",
    "class Args:\n",
    "\n",
    "  def __getitem__(self, key):\n",
    "    return getattr(self, key)\n",
    "\n",
    "  def __setitem__(self, key, val):\n",
    "    setattr(self, key, val)\n",
    "\n",
    "  #@markdown expert data\n",
    "  expert_policy_file = '' #@param\n",
    "#   expert_data = '../data/trajectories.pkl' #@param # maybe later get it from a file like this\n",
    "  env_name = 'HLR' #@param ['HLR']\n",
    "  exp_name = 'start' #@param\n",
    "  do_dagger = False #@param {type: \"boolean\"}\n",
    "  ep_len = 1000 #@param {type: \"integer\"}\n",
    "  save_params = False #@param {type: \"boolean\"}\n",
    "\n",
    "  num_agent_train_steps_per_iter = 1000 #@param {type: \"integer\"})\n",
    "  n_iter = 1 #@param {type: \"integer\"})\n",
    "\n",
    "  #@markdown batches & buffers\n",
    "  batch_size = 30 #@param {type: \"integer\"})\n",
    "  eval_batch_size = 1000 #@param {type: \"integer\"}\n",
    "  train_batch_size = 100 #@param {type: \"integer\"}\n",
    "  max_replay_buffer_size = 1000000 #@param {type: \"integer\"}\n",
    "\n",
    "  #@markdown network\n",
    "  n_layers = 2 #@param {type: \"integer\"}\n",
    "  size = 64 #@param {type: \"integer\"}\n",
    "  learning_rate = 5e-3 #@param {type: \"number\"}\n",
    "\n",
    "  #@markdown logging\n",
    "  video_log_freq = -1 #@param {type: \"integer\"}\n",
    "  scalar_log_freq = 1 #@param {type: \"integer\"}\n",
    "\n",
    "  #@markdown gpu & run-time settings\n",
    "  no_gpu = False #@param {type: \"boolean\"}\n",
    "  which_gpu = 0 #@param {type: \"integer\"}\n",
    "  seed = 1 #@param {type: \"integer\"}\n",
    "\n",
    "args = Args()\n",
    "params = args"
   ]
  },
  {
   "cell_type": "code",
   "execution_count": 115,
   "metadata": {},
   "outputs": [],
   "source": [
    "params['trajectories'] = traj_dict\n",
    "params['paths'] = paths"
   ]
  },
  {
   "cell_type": "code",
   "execution_count": 116,
   "metadata": {},
   "outputs": [],
   "source": [
    "# Logdir\n",
    "data_path = os.path.join(os.getcwd(), 'data')\n",
    "if not (os.path.exists(data_path)):\n",
    "    os.makedirs(data_path)\n",
    "logdir = 'bc_' + args.exp_name + '_hlr_' + time.strftime(\"%d-%m-%Y_%H-%M-%S\")\n",
    "logdir = os.path.join(data_path, logdir)\n",
    "params['logdir'] = logdir\n",
    "if not(os.path.exists(logdir)):\n",
    "    os.makedirs(logdir)"
   ]
  },
  {
   "cell_type": "code",
   "execution_count": 117,
   "metadata": {},
   "outputs": [
    {
     "name": "stdout",
     "output_type": "stream",
     "text": [
      "########################\n",
      "logging outputs to  C:\\Users\\Sarah\\cs285_project\\data\\bc_start_hlr_25-10-2020_23-46-01\n",
      "########################\n",
      "GPU not detected. Defaulting to CPU.\n",
      "\n",
      "\n",
      "********** Iteration 0 ************\n",
      "\n",
      "Training agent using sampled data from replay buffer...\n",
      "tensor(71637.1797, grad_fn=<NegBackward>)\n"
     ]
    },
    {
     "ename": "RuntimeError",
     "evalue": "[enforce fail at ..\\c10\\core\\CPUAllocator.cpp:72] data. DefaultCPUAllocator: not enough memory: you tried to allocate 219040000 bytes. Buy new RAM!\n00007FFC89507BC800007FFC89507A30 c10.dll!c10::MessageLogger::~MessageLogger [<unknown file> @ <unknown line number>]\n00007FFC895080B300007FFC89508080 c10.dll!c10::ThrowEnforceNotMet [<unknown file> @ <unknown line number>]\n00007FFC894EABBD00007FFC894EAA50 c10.dll!c10::alloc_cpu [<unknown file> @ <unknown line number>]\n00007FFC894EAC2200007FFC894EAC00 c10.dll!c10::DefaultCPUAllocator::allocate [<unknown file> @ <unknown line number>]\n00007FFC5E1053EF00007FFC5E105270 torch_cpu.dll!at::native::empty_cpu [<unknown file> @ <unknown line number>]\n00007FFC5E2A6C5F00007FFC5E24D9D0 torch_cpu.dll!at::native::mkldnn_sigmoid_ [<unknown file> @ <unknown line number>]\n00007FFC5E26000500007FFC5E24D9D0 torch_cpu.dll!at::native::mkldnn_sigmoid_ [<unknown file> @ <unknown line number>]\n00007FFC5E261A3A00007FFC5E24D9D0 torch_cpu.dll!at::native::mkldnn_sigmoid_ [<unknown file> @ <unknown line number>]\n00007FFC5E26000500007FFC5E24D9D0 torch_cpu.dll!at::native::mkldnn_sigmoid_ [<unknown file> @ <unknown line number>]\n00007FFC5E3318A000007FFC5E328FA0 torch_cpu.dll!at::bucketize_out [<unknown file> @ <unknown line number>]\n00007FFC5E3428DC00007FFC5E342850 torch_cpu.dll!at::empty [<unknown file> @ <unknown line number>]\n00007FFC5E105C6100007FFC5E105780 torch_cpu.dll!at::native::empty_like [<unknown file> @ <unknown line number>]\n00007FFC5E4071C200007FFC5E38D060 torch_cpu.dll!at::zeros_out [<unknown file> @ <unknown line number>]\n00007FFC5DEC21EE00007FFC5DEB6470 torch_cpu.dll!torch::nn::functional::BatchNormFuncOptions::~BatchNormFuncOptions [<unknown file> @ <unknown line number>]\n00007FFC5E32F44F00007FFC5E328FA0 torch_cpu.dll!at::bucketize_out [<unknown file> @ <unknown line number>]\n00007FFC5E342C8200007FFC5E342C00 torch_cpu.dll!at::empty_like [<unknown file> @ <unknown line number>]\n00007FFC5E104F7200007FFC5E104E70 torch_cpu.dll!at::native::clone [<unknown file> @ <unknown line number>]\n00007FFC5E2A68C200007FFC5E24D9D0 torch_cpu.dll!at::native::mkldnn_sigmoid_ [<unknown file> @ <unknown line number>]\n00007FFC5DEC1F5600007FFC5DEB6470 torch_cpu.dll!torch::nn::functional::BatchNormFuncOptions::~BatchNormFuncOptions [<unknown file> @ <unknown line number>]\n00007FFC5E433CE300007FFC5E433BD0 torch_cpu.dll!at::Tensor::clone [<unknown file> @ <unknown line number>]\n00007FFC5DF69D3800007FFC5DF69BF0 torch_cpu.dll!at::native::cholesky_solve_out [<unknown file> @ <unknown line number>]\n00007FFC5DF68BC200007FFC5DF68B90 torch_cpu.dll!at::native::_triangular_solve_helper_cpu [<unknown file> @ <unknown line number>]\n00007FFC5E29D17000007FFC5E24D9D0 torch_cpu.dll!at::native::mkldnn_sigmoid_ [<unknown file> @ <unknown line number>]\n00007FFC5E2A0F7F00007FFC5E24D9D0 torch_cpu.dll!at::native::mkldnn_sigmoid_ [<unknown file> @ <unknown line number>]\n00007FFC5E32A7B000007FFC5E328FA0 torch_cpu.dll!at::bucketize_out [<unknown file> @ <unknown line number>]\n00007FFC5E31CF8700007FFC5E31CF10 torch_cpu.dll!at::_triangular_solve_helper [<unknown file> @ <unknown line number>]\n00007FFC5DF6BA9300007FFC5DF6B9A0 torch_cpu.dll!at::native::triangular_solve [<unknown file> @ <unknown line number>]\n00007FFC5E41E10100007FFC5E38D060 torch_cpu.dll!at::zeros_out [<unknown file> @ <unknown line number>]\n00007FFC5E2A0F7F00007FFC5E24D9D0 torch_cpu.dll!at::native::mkldnn_sigmoid_ [<unknown file> @ <unknown line number>]\n00007FFC5E32A7B000007FFC5E328FA0 torch_cpu.dll!at::bucketize_out [<unknown file> @ <unknown line number>]\n00007FFC5E384C2700007FFC5E384BB0 torch_cpu.dll!at::triangular_solve [<unknown file> @ <unknown line number>]\n00007FFC5F7184FD00007FFC5F5CE010 torch_cpu.dll!torch::autograd::GraphRoot::apply [<unknown file> @ <unknown line number>]\n00007FFC5E2A0F7F00007FFC5E24D9D0 torch_cpu.dll!at::native::mkldnn_sigmoid_ [<unknown file> @ <unknown line number>]\n00007FFC5E45286400007FFC5E452770 torch_cpu.dll!at::Tensor::triangular_solve [<unknown file> @ <unknown line number>]\n00007FFC5F56E6D300007FFC5F56E5E0 torch_cpu.dll!torch::autograd::profiler::Event::thread_id [<unknown file> @ <unknown line number>]\n00007FFC5F54BA6E00007FFC5F54B840 torch_cpu.dll!torch::autograd::generated::TriangularSolveBackward::apply [<unknown file> @ <unknown line number>]\n00007FFC5F507E9100007FFC5F507B50 torch_cpu.dll!torch::autograd::Node::operator() [<unknown file> @ <unknown line number>]\n00007FFC5FA6F9BA00007FFC5FA6F300 torch_cpu.dll!torch::autograd::Engine::add_thread_pool_task [<unknown file> @ <unknown line number>]\n00007FFC5FA703AD00007FFC5FA6FFD0 torch_cpu.dll!torch::autograd::Engine::evaluate_function [<unknown file> @ <unknown line number>]\n00007FFC5FA74FE200007FFC5FA74CA0 torch_cpu.dll!torch::autograd::Engine::thread_main [<unknown file> @ <unknown line number>]\n00007FFC5FA7192D00007FFC5FA71750 torch_cpu.dll!torch::autograd::Engine::execute_with_graph_task [<unknown file> @ <unknown line number>]\n00007FFC2DCC065F00007FFC2DC99FE0 torch_python.dll!THPShortStorage_New [<unknown file> @ <unknown line number>]\n00007FFC5FA7167000007FFC5FA71500 torch_cpu.dll!torch::autograd::Engine::execute [<unknown file> @ <unknown line number>]\n00007FFC2DCC052B00007FFC2DC99FE0 torch_python.dll!THPShortStorage_New [<unknown file> @ <unknown line number>]\n00007FFC2DCBE73B00007FFC2DC99FE0 torch_python.dll!THPShortStorage_New [<unknown file> @ <unknown line number>]\n000000006C877C46000000006C8778C0 python36.dll!PyCFunction_FastCallDict [<unknown file> @ <unknown line number>]\n000000006C878129000000006C877D90 python36.dll!PyObject_GetAttr [<unknown file> @ <unknown line number>]\n000000006C8797B8000000006C8788B0 python36.dll!PyEval_EvalFrameDefault [<unknown file> @ <unknown line number>]\n000000006C875DF8000000006C8756D0 python36.dll!PyObject_IsInstance [<unknown file> @ <unknown line number>]\n000000006C878597000000006C877D90 python36.dll!PyObject_GetAttr [<unknown file> @ <unknown line number>]\n000000006C878B5E000000006C8788B0 python36.dll!PyEval_EvalFrameDefault [<unknown file> @ <unknown line number>]\n000000006C875DF8000000006C8756D0 python36.dll!PyObject_IsInstance [<unknown file> @ <unknown line number>]\n000000006C878597000000006C877D90 python36.dll!PyObject_GetAttr [<unknown file> @ <unknown line number>]\n000000006C878B5E000000006C8788B0 python36.dll!PyEval_EvalFrameDefault [<unknown file> @ <unknown line number>]\n000000006C875DF8000000006C8756D0 python36.dll!PyObject_IsInstance [<unknown file> @ <unknown line number>]\n000000006C878597000000006C877D90 python36.dll!PyObject_GetAttr [<unknown file> @ <unknown line number>]\n000000006C878B5E000000006C8788B0 python36.dll!PyEval_EvalFrameDefault [<unknown file> @ <unknown line number>]\n000000006C8782F0000000006C877D90 python36.dll!PyObject_GetAttr [<unknown file> @ <unknown line number>]\n000000006C878B5E000000006C8788B0 python36.dll!PyEval_EvalFrameDefault [<unknown file> @ <unknown line number>]\n000000006C8782F0000000006C877D90 python36.dll!PyObject_GetAttr [<unknown file> @ <unknown line number>]\n000000006C878B5E000000006C8788B0 python36.dll!PyEval_EvalFrameDefault [<unknown file> @ <unknown line number>]\n000000006C875DF8000000006C8756D0 python36.dll!PyObject_IsInstance [<unknown file> @ <unknown line number>]\n000000006C878597000000006C877D90 python36.dll!PyObject_GetAttr [<unknown file> @ <unknown line number>]\n000000006C8797B8000000006C8788B0 python36.dll!PyEval_EvalFrameDefault [<unknown file> @ <unknown line number>]\n",
     "output_type": "error",
     "traceback": [
      "\u001b[1;31m---------------------------------------------------------------------------\u001b[0m",
      "\u001b[1;31mRuntimeError\u001b[0m                              Traceback (most recent call last)",
      "\u001b[1;32m<ipython-input-117-05137174fed4>\u001b[0m in \u001b[0;36m<module>\u001b[1;34m()\u001b[0m\n\u001b[0;32m      1\u001b[0m \u001b[0mtrainer\u001b[0m \u001b[1;33m=\u001b[0m \u001b[0mBC_Trainer\u001b[0m\u001b[1;33m(\u001b[0m\u001b[0mparams\u001b[0m\u001b[1;33m)\u001b[0m\u001b[1;33m\u001b[0m\u001b[1;33m\u001b[0m\u001b[0m\n\u001b[1;32m----> 2\u001b[1;33m \u001b[0mtrainer\u001b[0m\u001b[1;33m.\u001b[0m\u001b[0mrun_training_loop\u001b[0m\u001b[1;33m(\u001b[0m\u001b[1;33m)\u001b[0m\u001b[1;33m\u001b[0m\u001b[1;33m\u001b[0m\u001b[0m\n\u001b[0m",
      "\u001b[1;32mC:\\Users\\Sarah\\cs285_project\\cs285\\scripts\\run_bc.py\u001b[0m in \u001b[0;36mrun_training_loop\u001b[1;34m(self)\u001b[0m\n\u001b[0;32m     37\u001b[0m             \u001b[0mn_iter\u001b[0m\u001b[1;33m=\u001b[0m\u001b[1;36m1\u001b[0m\u001b[1;33m,\u001b[0m\u001b[1;33m\u001b[0m\u001b[1;33m\u001b[0m\u001b[0m\n\u001b[0;32m     38\u001b[0m             \u001b[0mcollect_policy\u001b[0m\u001b[1;33m=\u001b[0m\u001b[0mself\u001b[0m\u001b[1;33m.\u001b[0m\u001b[0mrl_trainer\u001b[0m\u001b[1;33m.\u001b[0m\u001b[0magent\u001b[0m\u001b[1;33m.\u001b[0m\u001b[0mactor\u001b[0m\u001b[1;33m,\u001b[0m\u001b[1;33m\u001b[0m\u001b[1;33m\u001b[0m\u001b[0m\n\u001b[1;32m---> 39\u001b[1;33m             \u001b[0meval_policy\u001b[0m\u001b[1;33m=\u001b[0m\u001b[0mself\u001b[0m\u001b[1;33m.\u001b[0m\u001b[0mrl_trainer\u001b[0m\u001b[1;33m.\u001b[0m\u001b[0magent\u001b[0m\u001b[1;33m.\u001b[0m\u001b[0mactor\u001b[0m\u001b[1;33m\u001b[0m\u001b[1;33m\u001b[0m\u001b[0m\n\u001b[0m\u001b[0;32m     40\u001b[0m         )\n\u001b[0;32m     41\u001b[0m \u001b[1;33m\u001b[0m\u001b[0m\n",
      "\u001b[1;32mC:\\Users\\Sarah\\cs285_project\\cs285\\infrastructure\\bc_rl_trainer.py\u001b[0m in \u001b[0;36mrun_training_loop\u001b[1;34m(self, n_iter, collect_policy, eval_policy, initial_expertdata, relabel_with_expert, start_relabel_with_expert, expert_policy)\u001b[0m\n\u001b[0;32m     99\u001b[0m \u001b[1;33m\u001b[0m\u001b[0m\n\u001b[0;32m    100\u001b[0m             \u001b[1;31m# train agent (using sampled data from replay buffer)\u001b[0m\u001b[1;33m\u001b[0m\u001b[1;33m\u001b[0m\u001b[1;33m\u001b[0m\u001b[0m\n\u001b[1;32m--> 101\u001b[1;33m             \u001b[0mtraining_logs\u001b[0m \u001b[1;33m=\u001b[0m \u001b[0mself\u001b[0m\u001b[1;33m.\u001b[0m\u001b[0mtrain_agent\u001b[0m\u001b[1;33m(\u001b[0m\u001b[1;33m)\u001b[0m  \u001b[1;31m# HW1: implement this function below\u001b[0m\u001b[1;33m\u001b[0m\u001b[1;33m\u001b[0m\u001b[0m\n\u001b[0m\u001b[0;32m    102\u001b[0m \u001b[1;33m\u001b[0m\u001b[0m\n\u001b[0;32m    103\u001b[0m     \u001b[1;32mdef\u001b[0m \u001b[0mtrain_agent\u001b[0m\u001b[1;33m(\u001b[0m\u001b[0mself\u001b[0m\u001b[1;33m)\u001b[0m\u001b[1;33m:\u001b[0m\u001b[1;33m\u001b[0m\u001b[1;33m\u001b[0m\u001b[0m\n",
      "\u001b[1;32mC:\\Users\\Sarah\\cs285_project\\cs285\\infrastructure\\bc_rl_trainer.py\u001b[0m in \u001b[0;36mtrain_agent\u001b[1;34m(self)\u001b[0m\n\u001b[0;32m    114\u001b[0m             \u001b[1;31m# HINT: use the agent's train function\u001b[0m\u001b[1;33m\u001b[0m\u001b[1;33m\u001b[0m\u001b[1;33m\u001b[0m\u001b[0m\n\u001b[0;32m    115\u001b[0m             \u001b[1;31m# HINT: keep the agent's training log for debugging\u001b[0m\u001b[1;33m\u001b[0m\u001b[1;33m\u001b[0m\u001b[1;33m\u001b[0m\u001b[0m\n\u001b[1;32m--> 116\u001b[1;33m             \u001b[0mtrain_log\u001b[0m \u001b[1;33m=\u001b[0m \u001b[0mself\u001b[0m\u001b[1;33m.\u001b[0m\u001b[0magent\u001b[0m\u001b[1;33m.\u001b[0m\u001b[0mtrain\u001b[0m\u001b[1;33m(\u001b[0m\u001b[0mob_batch\u001b[0m\u001b[1;33m,\u001b[0m \u001b[0mac_batch\u001b[0m\u001b[1;33m,\u001b[0m \u001b[0mre_batch\u001b[0m\u001b[1;33m,\u001b[0m \u001b[0mnext_ob_batch\u001b[0m\u001b[1;33m,\u001b[0m \u001b[0mterminal_batch\u001b[0m\u001b[1;33m)\u001b[0m\u001b[1;33m\u001b[0m\u001b[1;33m\u001b[0m\u001b[0m\n\u001b[0m\u001b[0;32m    117\u001b[0m             \u001b[0mall_logs\u001b[0m\u001b[1;33m.\u001b[0m\u001b[0mappend\u001b[0m\u001b[1;33m(\u001b[0m\u001b[0mtrain_log\u001b[0m\u001b[1;33m)\u001b[0m\u001b[1;33m\u001b[0m\u001b[1;33m\u001b[0m\u001b[0m\n\u001b[0;32m    118\u001b[0m         \u001b[1;32mreturn\u001b[0m \u001b[0mall_logs\u001b[0m\u001b[1;33m\u001b[0m\u001b[1;33m\u001b[0m\u001b[0m\n",
      "\u001b[1;32mC:\\Users\\Sarah\\cs285_project\\cs285\\agents\\bc_agent.py\u001b[0m in \u001b[0;36mtrain\u001b[1;34m(self, ob_no, ac_na, re_n, next_ob_no, terminal_n)\u001b[0m\n\u001b[0;32m     28\u001b[0m         \u001b[1;31m# training a BC agent refers to updating its actor using\u001b[0m\u001b[1;33m\u001b[0m\u001b[1;33m\u001b[0m\u001b[1;33m\u001b[0m\u001b[0m\n\u001b[0;32m     29\u001b[0m         \u001b[1;31m# the given observations and corresponding action labels\u001b[0m\u001b[1;33m\u001b[0m\u001b[1;33m\u001b[0m\u001b[1;33m\u001b[0m\u001b[0m\n\u001b[1;32m---> 30\u001b[1;33m         \u001b[0mlog\u001b[0m \u001b[1;33m=\u001b[0m \u001b[0mself\u001b[0m\u001b[1;33m.\u001b[0m\u001b[0mactor\u001b[0m\u001b[1;33m.\u001b[0m\u001b[0mupdate\u001b[0m\u001b[1;33m(\u001b[0m\u001b[0mob_no\u001b[0m\u001b[1;33m,\u001b[0m \u001b[0mac_na\u001b[0m\u001b[1;33m)\u001b[0m  \u001b[1;31m# HW1: you will modify this\u001b[0m\u001b[1;33m\u001b[0m\u001b[1;33m\u001b[0m\u001b[0m\n\u001b[0m\u001b[0;32m     31\u001b[0m         \u001b[1;32mreturn\u001b[0m \u001b[0mlog\u001b[0m\u001b[1;33m\u001b[0m\u001b[1;33m\u001b[0m\u001b[0m\n\u001b[0;32m     32\u001b[0m \u001b[1;33m\u001b[0m\u001b[0m\n",
      "\u001b[1;32mC:\\Users\\Sarah\\cs285_project\\cs285\\policies\\MLP_policy.py\u001b[0m in \u001b[0;36mupdate\u001b[1;34m(self, observations, actions, adv_n, acs_labels_na, qvals)\u001b[0m\n\u001b[0;32m    233\u001b[0m             \u001b[0mprint\u001b[0m\u001b[1;33m(\u001b[0m\u001b[0mloss\u001b[0m\u001b[1;33m)\u001b[0m\u001b[1;33m\u001b[0m\u001b[1;33m\u001b[0m\u001b[0m\n\u001b[0;32m    234\u001b[0m         \u001b[0mself\u001b[0m\u001b[1;33m.\u001b[0m\u001b[0moptimizer\u001b[0m\u001b[1;33m.\u001b[0m\u001b[0mzero_grad\u001b[0m\u001b[1;33m(\u001b[0m\u001b[1;33m)\u001b[0m\u001b[1;33m\u001b[0m\u001b[1;33m\u001b[0m\u001b[0m\n\u001b[1;32m--> 235\u001b[1;33m         \u001b[0mloss\u001b[0m\u001b[1;33m.\u001b[0m\u001b[0mbackward\u001b[0m\u001b[1;33m(\u001b[0m\u001b[1;33m)\u001b[0m\u001b[1;33m\u001b[0m\u001b[1;33m\u001b[0m\u001b[0m\n\u001b[0m\u001b[0;32m    236\u001b[0m         \u001b[0mself\u001b[0m\u001b[1;33m.\u001b[0m\u001b[0moptimizer\u001b[0m\u001b[1;33m.\u001b[0m\u001b[0mstep\u001b[0m\u001b[1;33m(\u001b[0m\u001b[1;33m)\u001b[0m\u001b[1;33m\u001b[0m\u001b[1;33m\u001b[0m\u001b[0m\n\u001b[0;32m    237\u001b[0m         return {\n",
      "\u001b[1;32mC:\\Users\\Sarah\\.conda\\envs\\285proj\\lib\\site-packages\\torch\\tensor.py\u001b[0m in \u001b[0;36mbackward\u001b[1;34m(self, gradient, retain_graph, create_graph)\u001b[0m\n\u001b[0;32m    183\u001b[0m                 \u001b[0mproducts\u001b[0m\u001b[1;33m.\u001b[0m \u001b[0mDefaults\u001b[0m \u001b[0mto\u001b[0m\u001b[0;31m \u001b[0m\u001b[0;31m`\u001b[0m\u001b[0;31m`\u001b[0m\u001b[1;32mFalse\u001b[0m\u001b[0;31m`\u001b[0m\u001b[0;31m`\u001b[0m\u001b[1;33m.\u001b[0m\u001b[1;33m\u001b[0m\u001b[1;33m\u001b[0m\u001b[0m\n\u001b[0;32m    184\u001b[0m         \"\"\"\n\u001b[1;32m--> 185\u001b[1;33m         \u001b[0mtorch\u001b[0m\u001b[1;33m.\u001b[0m\u001b[0mautograd\u001b[0m\u001b[1;33m.\u001b[0m\u001b[0mbackward\u001b[0m\u001b[1;33m(\u001b[0m\u001b[0mself\u001b[0m\u001b[1;33m,\u001b[0m \u001b[0mgradient\u001b[0m\u001b[1;33m,\u001b[0m \u001b[0mretain_graph\u001b[0m\u001b[1;33m,\u001b[0m \u001b[0mcreate_graph\u001b[0m\u001b[1;33m)\u001b[0m\u001b[1;33m\u001b[0m\u001b[1;33m\u001b[0m\u001b[0m\n\u001b[0m\u001b[0;32m    186\u001b[0m \u001b[1;33m\u001b[0m\u001b[0m\n\u001b[0;32m    187\u001b[0m     \u001b[1;32mdef\u001b[0m \u001b[0mregister_hook\u001b[0m\u001b[1;33m(\u001b[0m\u001b[0mself\u001b[0m\u001b[1;33m,\u001b[0m \u001b[0mhook\u001b[0m\u001b[1;33m)\u001b[0m\u001b[1;33m:\u001b[0m\u001b[1;33m\u001b[0m\u001b[1;33m\u001b[0m\u001b[0m\n",
      "\u001b[1;32mC:\\Users\\Sarah\\.conda\\envs\\285proj\\lib\\site-packages\\torch\\autograd\\__init__.py\u001b[0m in \u001b[0;36mbackward\u001b[1;34m(tensors, grad_tensors, retain_graph, create_graph, grad_variables)\u001b[0m\n\u001b[0;32m    125\u001b[0m     Variable._execution_engine.run_backward(\n\u001b[0;32m    126\u001b[0m         \u001b[0mtensors\u001b[0m\u001b[1;33m,\u001b[0m \u001b[0mgrad_tensors\u001b[0m\u001b[1;33m,\u001b[0m \u001b[0mretain_graph\u001b[0m\u001b[1;33m,\u001b[0m \u001b[0mcreate_graph\u001b[0m\u001b[1;33m,\u001b[0m\u001b[1;33m\u001b[0m\u001b[1;33m\u001b[0m\u001b[0m\n\u001b[1;32m--> 127\u001b[1;33m         allow_unreachable=True)  # allow_unreachable flag\n\u001b[0m\u001b[0;32m    128\u001b[0m \u001b[1;33m\u001b[0m\u001b[0m\n\u001b[0;32m    129\u001b[0m \u001b[1;33m\u001b[0m\u001b[0m\n",
      "\u001b[1;31mRuntimeError\u001b[0m: [enforce fail at ..\\c10\\core\\CPUAllocator.cpp:72] data. DefaultCPUAllocator: not enough memory: you tried to allocate 219040000 bytes. Buy new RAM!\n00007FFC89507BC800007FFC89507A30 c10.dll!c10::MessageLogger::~MessageLogger [<unknown file> @ <unknown line number>]\n00007FFC895080B300007FFC89508080 c10.dll!c10::ThrowEnforceNotMet [<unknown file> @ <unknown line number>]\n00007FFC894EABBD00007FFC894EAA50 c10.dll!c10::alloc_cpu [<unknown file> @ <unknown line number>]\n00007FFC894EAC2200007FFC894EAC00 c10.dll!c10::DefaultCPUAllocator::allocate [<unknown file> @ <unknown line number>]\n00007FFC5E1053EF00007FFC5E105270 torch_cpu.dll!at::native::empty_cpu [<unknown file> @ <unknown line number>]\n00007FFC5E2A6C5F00007FFC5E24D9D0 torch_cpu.dll!at::native::mkldnn_sigmoid_ [<unknown file> @ <unknown line number>]\n00007FFC5E26000500007FFC5E24D9D0 torch_cpu.dll!at::native::mkldnn_sigmoid_ [<unknown file> @ <unknown line number>]\n00007FFC5E261A3A00007FFC5E24D9D0 torch_cpu.dll!at::native::mkldnn_sigmoid_ [<unknown file> @ <unknown line number>]\n00007FFC5E26000500007FFC5E24D9D0 torch_cpu.dll!at::native::mkldnn_sigmoid_ [<unknown file> @ <unknown line number>]\n00007FFC5E3318A000007FFC5E328FA0 torch_cpu.dll!at::bucketize_out [<unknown file> @ <unknown line number>]\n00007FFC5E3428DC00007FFC5E342850 torch_cpu.dll!at::empty [<unknown file> @ <unknown line number>]\n00007FFC5E105C6100007FFC5E105780 torch_cpu.dll!at::native::empty_like [<unknown file> @ <unknown line number>]\n00007FFC5E4071C200007FFC5E38D060 torch_cpu.dll!at::zeros_out [<unknown file> @ <unknown line number>]\n00007FFC5DEC21EE00007FFC5DEB6470 torch_cpu.dll!torch::nn::functional::BatchNormFuncOptions::~BatchNormFuncOptions [<unknown file> @ <unknown line number>]\n00007FFC5E32F44F00007FFC5E328FA0 torch_cpu.dll!at::bucketize_out [<unknown file> @ <unknown line number>]\n00007FFC5E342C8200007FFC5E342C00 torch_cpu.dll!at::empty_like [<unknown file> @ <unknown line number>]\n00007FFC5E104F7200007FFC5E104E70 torch_cpu.dll!at::native::clone [<unknown file> @ <unknown line number>]\n00007FFC5E2A68C200007FFC5E24D9D0 torch_cpu.dll!at::native::mkldnn_sigmoid_ [<unknown file> @ <unknown line number>]\n00007FFC5DEC1F5600007FFC5DEB6470 torch_cpu.dll!torch::nn::functional::BatchNormFuncOptions::~BatchNormFuncOptions [<unknown file> @ <unknown line number>]\n00007FFC5E433CE300007FFC5E433BD0 torch_cpu.dll!at::Tensor::clone [<unknown file> @ <unknown line number>]\n00007FFC5DF69D3800007FFC5DF69BF0 torch_cpu.dll!at::native::cholesky_solve_out [<unknown file> @ <unknown line number>]\n00007FFC5DF68BC200007FFC5DF68B90 torch_cpu.dll!at::native::_triangular_solve_helper_cpu [<unknown file> @ <unknown line number>]\n00007FFC5E29D17000007FFC5E24D9D0 torch_cpu.dll!at::native::mkldnn_sigmoid_ [<unknown file> @ <unknown line number>]\n00007FFC5E2A0F7F00007FFC5E24D9D0 torch_cpu.dll!at::native::mkldnn_sigmoid_ [<unknown file> @ <unknown line number>]\n00007FFC5E32A7B000007FFC5E328FA0 torch_cpu.dll!at::bucketize_out [<unknown file> @ <unknown line number>]\n00007FFC5E31CF8700007FFC5E31CF10 torch_cpu.dll!at::_triangular_solve_helper [<unknown file> @ <unknown line number>]\n00007FFC5DF6BA9300007FFC5DF6B9A0 torch_cpu.dll!at::native::triangular_solve [<unknown file> @ <unknown line number>]\n00007FFC5E41E10100007FFC5E38D060 torch_cpu.dll!at::zeros_out [<unknown file> @ <unknown line number>]\n00007FFC5E2A0F7F00007FFC5E24D9D0 torch_cpu.dll!at::native::mkldnn_sigmoid_ [<unknown file> @ <unknown line number>]\n00007FFC5E32A7B000007FFC5E328FA0 torch_cpu.dll!at::bucketize_out [<unknown file> @ <unknown line number>]\n00007FFC5E384C2700007FFC5E384BB0 torch_cpu.dll!at::triangular_solve [<unknown file> @ <unknown line number>]\n00007FFC5F7184FD00007FFC5F5CE010 torch_cpu.dll!torch::autograd::GraphRoot::apply [<unknown file> @ <unknown line number>]\n00007FFC5E2A0F7F00007FFC5E24D9D0 torch_cpu.dll!at::native::mkldnn_sigmoid_ [<unknown file> @ <unknown line number>]\n00007FFC5E45286400007FFC5E452770 torch_cpu.dll!at::Tensor::triangular_solve [<unknown file> @ <unknown line number>]\n00007FFC5F56E6D300007FFC5F56E5E0 torch_cpu.dll!torch::autograd::profiler::Event::thread_id [<unknown file> @ <unknown line number>]\n00007FFC5F54BA6E00007FFC5F54B840 torch_cpu.dll!torch::autograd::generated::TriangularSolveBackward::apply [<unknown file> @ <unknown line number>]\n00007FFC5F507E9100007FFC5F507B50 torch_cpu.dll!torch::autograd::Node::operator() [<unknown file> @ <unknown line number>]\n00007FFC5FA6F9BA00007FFC5FA6F300 torch_cpu.dll!torch::autograd::Engine::add_thread_pool_task [<unknown file> @ <unknown line number>]\n00007FFC5FA703AD00007FFC5FA6FFD0 torch_cpu.dll!torch::autograd::Engine::evaluate_function [<unknown file> @ <unknown line number>]\n00007FFC5FA74FE200007FFC5FA74CA0 torch_cpu.dll!torch::autograd::Engine::thread_main [<unknown file> @ <unknown line number>]\n00007FFC5FA7192D00007FFC5FA71750 torch_cpu.dll!torch::autograd::Engine::execute_with_graph_task [<unknown file> @ <unknown line number>]\n00007FFC2DCC065F00007FFC2DC99FE0 torch_python.dll!THPShortStorage_New [<unknown file> @ <unknown line number>]\n00007FFC5FA7167000007FFC5FA71500 torch_cpu.dll!torch::autograd::Engine::execute [<unknown file> @ <unknown line number>]\n00007FFC2DCC052B00007FFC2DC99FE0 torch_python.dll!THPShortStorage_New [<unknown file> @ <unknown line number>]\n00007FFC2DCBE73B00007FFC2DC99FE0 torch_python.dll!THPShortStorage_New [<unknown file> @ <unknown line number>]\n000000006C877C46000000006C8778C0 python36.dll!PyCFunction_FastCallDict [<unknown file> @ <unknown line number>]\n000000006C878129000000006C877D90 python36.dll!PyObject_GetAttr [<unknown file> @ <unknown line number>]\n000000006C8797B8000000006C8788B0 python36.dll!PyEval_EvalFrameDefault [<unknown file> @ <unknown line number>]\n000000006C875DF8000000006C8756D0 python36.dll!PyObject_IsInstance [<unknown file> @ <unknown line number>]\n000000006C878597000000006C877D90 python36.dll!PyObject_GetAttr [<unknown file> @ <unknown line number>]\n000000006C878B5E000000006C8788B0 python36.dll!PyEval_EvalFrameDefault [<unknown file> @ <unknown line number>]\n000000006C875DF8000000006C8756D0 python36.dll!PyObject_IsInstance [<unknown file> @ <unknown line number>]\n000000006C878597000000006C877D90 python36.dll!PyObject_GetAttr [<unknown file> @ <unknown line number>]\n000000006C878B5E000000006C8788B0 python36.dll!PyEval_EvalFrameDefault [<unknown file> @ <unknown line number>]\n000000006C875DF8000000006C8756D0 python36.dll!PyObject_IsInstance [<unknown file> @ <unknown line number>]\n000000006C878597000000006C877D90 python36.dll!PyObject_GetAttr [<unknown file> @ <unknown line number>]\n000000006C878B5E000000006C8788B0 python36.dll!PyEval_EvalFrameDefault [<unknown file> @ <unknown line number>]\n000000006C8782F0000000006C877D90 python36.dll!PyObject_GetAttr [<unknown file> @ <unknown line number>]\n000000006C878B5E000000006C8788B0 python36.dll!PyEval_EvalFrameDefault [<unknown file> @ <unknown line number>]\n000000006C8782F0000000006C877D90 python36.dll!PyObject_GetAttr [<unknown file> @ <unknown line number>]\n000000006C878B5E000000006C8788B0 python36.dll!PyEval_EvalFrameDefault [<unknown file> @ <unknown line number>]\n000000006C875DF8000000006C8756D0 python36.dll!PyObject_IsInstance [<unknown file> @ <unknown line number>]\n000000006C878597000000006C877D90 python36.dll!PyObject_GetAttr [<unknown file> @ <unknown line number>]\n000000006C8797B8000000006C8788B0 python36.dll!PyEval_EvalFrameDefault [<unknown file> @ <unknown line number>]\n"
     ]
    }
   ],
   "source": [
    "trainer = BC_Trainer(params)\n",
    "trainer.run_training_loop()"
   ]
  },
  {
   "cell_type": "raw",
   "metadata": {},
   "source": []
  }
 ],
 "metadata": {
  "kernelspec": {
   "display_name": "Python 3",
   "language": "python",
   "name": "python3"
  },
  "language_info": {
   "codemirror_mode": {
    "name": "ipython",
    "version": 3
   },
   "file_extension": ".py",
   "mimetype": "text/x-python",
   "name": "python",
   "nbconvert_exporter": "python",
   "pygments_lexer": "ipython3",
   "version": "3.6.10"
  }
 },
 "nbformat": 4,
 "nbformat_minor": 4
}
