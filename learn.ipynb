{
 "cells": [
  {
   "cell_type": "code",
   "execution_count": 2,
   "metadata": {},
   "outputs": [],
   "source": [
    "import pandas as pd\n",
    "import numpy as np\n",
    "import matplotlib.pyplot as plt\n",
    "import itertools, os, torch\n",
    "\n",
    "from sim import Scheduler, Random, Leitner\n",
    "from data_process import process_original\n",
    "\n",
    "%load_ext autoreload\n",
    "%autoreload 2"
   ]
  },
  {
   "cell_type": "markdown",
   "metadata": {},
   "source": [
    "## Load and clean the data"
   ]
  },
  {
   "cell_type": "code",
   "execution_count": null,
   "metadata": {},
   "outputs": [],
   "source": [
    "process_original()"
   ]
  },
  {
   "cell_type": "code",
   "execution_count": null,
   "metadata": {},
   "outputs": [],
   "source": [
    "lang_map = {'de' : 0, 'en': 1, 'es': 2, 'fr': 3, 'it': 4, 'pt': 5}\n",
    "\n",
    "df = pd.read_csv(\"data/settles.acl16.learning_traces.13m.csv\")\n",
    "\n",
    "\n",
    "#Hash strings and map languages to numbers\n",
    "assign_colstring_to_num(df, 'user_id')\n",
    "assign_colstring_to_num(df, 'lexeme_id')\n",
    "\n",
    "\n",
    "\n",
    "df['learning_language'] = df['learning_language'].map(lang_map)\n",
    "df['ui_language'] = df['ui_language'].map(lang_map)\n",
    "\n",
    "\n",
    "#Save lexemes in different table. Downcast all data\n",
    "df['lexeme_string'] = df.lexeme_string.map(lambda x: x[0: x.find('<')])  \n",
    "lex_map = df.loc[:, ['lexeme_id', 'lexeme_string']]\n",
    "lex_map = lex_map.drop_duplicates()\n",
    "lex_map.to_csv(\"data/lexeme_map.csv\", index=False)\n",
    "lex_map=None\n",
    "#Trim our dataframe\n",
    "df = df.drop([\"p_recall\", \"lexeme_string\"], axis=1)\n",
    "reduce_df(df)\n",
    "\n",
    "#Get difficulties for each item and join that.\n",
    "i_d = df.groupby('lexeme_id').apply(\\\n",
    "    lambda x: x['history_correct'].sum() / x['history_seen'].sum())\n",
    "df = df.join(i_d.rename(\"difficulty\"), on='lexeme_id')\n",
    "\n",
    "#Hash user_lex and ts_user combos, sort by user and ts\n",
    "df['lex_user'] = df.loc[:, 'user_id'].astype(str).apply(hash) + df.loc[:, 'lexeme_id'].astype(str).apply(hash)\n",
    "df['ts_user'] = df.loc[:, 'user_id'].astype(str).apply(hash) + df.loc[:, 'timestamp'].astype(str).apply(hash)\n",
    "\n",
    "df = df.sort_values(by=['user_id', 'timestamp'])\n",
    "\n",
    "#Create sessions table and join it with original\n",
    "ts_cntr = df.loc[:, ['user_id', 'timestamp']].\\\n",
    "                 groupby(['user_id']).apply(timestamp_to_session)\n",
    "\n",
    "ts_cntr.index = ts_cntr.index.droplevel(1)\n",
    "ts_cntr = ts_cntr.reset_index()\n",
    "ts_cntr['ts_user'] = ts_cntr.loc[:, 'user_id'].astype(str).apply(hash) \\\n",
    "                        + ts_cntr.loc[:, 'timestamp'].astype(str).apply(hash)\n",
    "\n",
    "df = df.merge(ts_cntr, right_on=['timestamp', 'user_id'], left_on=['timestamp', 'user_id'])\n",
    "\n",
    "df = df.drop(['ts_user_x'], axis=1)\n",
    "\n",
    "assign_colstring_to_num(df, 'lex_user')\n",
    "assign_colstring_to_num(df, 'ts_user_y')\n",
    "\n",
    "df.loc[:, 'difficulty'] = df.loc[:, 'difficulty'].astype(np.float32)\n",
    "reduce_df(df)\n",
    "\n",
    "df.to_csv(\"data/cleaned.csv\")"
   ]
  },
  {
   "cell_type": "markdown",
   "metadata": {},
   "source": [
    "## Data Exploration"
   ]
  },
  {
   "cell_type": "markdown",
   "metadata": {},
   "source": [
    "We have about 5 million english learners, 3 million Spanish 1.9 million French and 1.4 million German learners. Italian and Portugese each have hundreds of thousands. It would be useful to restrict out studies to just the English users so we reduce the dimensionality of our dataset.\n",
    "\n",
    "Interestingly this dataset doesn't contain any Germans learning English so our studies will consist of using the Spanish, French and Italians."
   ]
  }
 ],
 "metadata": {
  "kernelspec": {
   "display_name": "Python 3",
   "language": "python",
   "name": "python3"
  },
  "language_info": {
   "codemirror_mode": {
    "name": "ipython",
    "version": 3
   },
   "file_extension": ".py",
   "mimetype": "text/x-python",
   "name": "python",
   "nbconvert_exporter": "python",
   "pygments_lexer": "ipython3",
   "version": "3.8.3"
  }
 },
 "nbformat": 4,
 "nbformat_minor": 4
}
