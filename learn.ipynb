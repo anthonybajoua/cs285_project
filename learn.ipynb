{
 "cells": [
  {
   "cell_type": "code",
   "execution_count": 1,
   "metadata": {},
   "outputs": [],
   "source": [
    "import pandas as pd\n",
    "import numpy as np\n",
    "import matplotlib.pyplot as plt\n",
    "import itertools, os, torch\n",
    "\n",
    "from sim import Scheduler, Random, Leitner\n",
    "from data_process import process_original, reduce_df, eval_thresh, reduce_lexemes\n",
    "from get_trajectory import get_traj\n",
    "\n",
    "%load_ext autoreload\n",
    "%autoreload 2"
   ]
  },
  {
   "cell_type": "code",
   "execution_count": 2,
   "metadata": {},
   "outputs": [
    {
     "name": "stdout",
     "output_type": "stream",
     "text": [
      "cleaned.csv    lexeme_map.csv\r\n"
     ]
    }
   ],
   "source": [
    "!cd data && ls"
   ]
  },
  {
   "cell_type": "markdown",
   "metadata": {},
   "source": [
    "## Load data (clean if necesarry)"
   ]
  },
  {
   "cell_type": "code",
   "execution_count": 3,
   "metadata": {},
   "outputs": [],
   "source": [
    "if not os.path.exists(\"data/cleaned.csv\"):\n",
    "    process_original()\n",
    "    \n",
    "\n",
    "df = pd.read_csv(\"data/cleaned.csv\")"
   ]
  },
  {
   "cell_type": "markdown",
   "metadata": {},
   "source": [
    "## Data Exploration"
   ]
  },
  {
   "cell_type": "code",
   "execution_count": 4,
   "metadata": {},
   "outputs": [
    {
     "data": {
      "text/plain": [
       "learning_language\n",
       "0    1452597\n",
       "1    5014791\n",
       "2    3407689\n",
       "3    1873734\n",
       "4     793935\n",
       "5     311480\n",
       "Name: user_id, dtype: int64"
      ]
     },
     "execution_count": 4,
     "metadata": {},
     "output_type": "execute_result"
    }
   ],
   "source": [
    "lang_map = {'de' : 0, 'en': 1, 'es': 2, 'fr': 3, 'it': 4, 'pt': 5}\n",
    "l_map = pd.read_csv(\"data/lexeme_map.csv\")\n",
    "\n",
    "df.groupby('learning_language').count().loc[:, 'user_id']"
   ]
  },
  {
   "cell_type": "markdown",
   "metadata": {},
   "source": [
    "We have about 5 million english items, 3 million Spanish 1.9 million French and 1.4 million German. Italian and Portugese each have hundreds of thousands. It would be useful to restrict out studies to just the English users so we reduce the dimensionality of our action and state spaces.\n",
    "\n",
    "There are 43.8 thousand learners (trajectories) we have to provide our RL agents.\n",
    "\n"
   ]
  },
  {
   "cell_type": "code",
   "execution_count": 5,
   "metadata": {},
   "outputs": [],
   "source": [
    "df = df.loc[df['learning_language'] == 1].copy()\n",
    "df = df.drop(['learning_language'], axis=1)\n",
    "reduce_df(df)\n",
    "df.loc[:, 'difficulty'] = df.loc[:, 'difficulty'].astype(np.float32)\n",
    "df.loc[:, 'difficulty'] -= df.loc[:, 'difficulty'].mean()\n",
    "df.loc[:, 'difficulty'] /= df.loc[:, 'difficulty'].std()"
   ]
  },
  {
   "cell_type": "code",
   "execution_count": 6,
   "metadata": {},
   "outputs": [
    {
     "name": "stdout",
     "output_type": "stream",
     "text": [
      "There are 2983 lexemes\n"
     ]
    }
   ],
   "source": [
    "english_counts = df.groupby('lexeme_id').count().loc[:, 'timestamp']\n",
    "n_lex = len(english_counts)\n",
    "print(f\"There are {n_lex} lexemes\")"
   ]
  },
  {
   "cell_type": "code",
   "execution_count": 7,
   "metadata": {},
   "outputs": [
    {
     "name": "stdout",
     "output_type": "stream",
     "text": [
      "For threshold 250 there are 36.98% lexemes above and 63.02% below\n",
      "\n",
      "There would be 97.10% of data included and 2.90% of data excluded\n"
     ]
    }
   ],
   "source": [
    "n_items = int(250)\n",
    "\n",
    "eval_thresh(df, english_counts, n_items)"
   ]
  },
  {
   "cell_type": "code",
   "execution_count": 8,
   "metadata": {},
   "outputs": [],
   "source": [
    "df, included = reduce_lexemes(df, n_items)"
   ]
  },
  {
   "cell_type": "code",
   "execution_count": null,
   "metadata": {},
   "outputs": [],
   "source": [
    "states, actions, itl, lti = get_traj(df, included)"
   ]
  },
  {
   "cell_type": "markdown",
   "metadata": {},
   "source": [
    "## Run Behavioral Cloning"
   ]
  },
  {
   "cell_type": "code",
   "execution_count": 10,
   "metadata": {},
   "outputs": [],
   "source": [
    "import torch.nn as nn\n",
    "import torch\n",
    "import random\n",
    "import cs285.infrastructure.pytorch_util as ptu\n",
    "from tqdm.notebook import trange, tqdm"
   ]
  },
  {
   "cell_type": "code",
   "execution_count": 11,
   "metadata": {},
   "outputs": [],
   "source": [
    "traj_idxs = list(states.keys())\n",
    "def sample_traj(states, actions, idxs, batch_size):\n",
    "    first_idx = idxs.pop()\n",
    "    states_cat = states[first_idx]\n",
    "    actions_cat = actions[first_idx]\n",
    "    while states_cat.shape[0] < batch_size and len(idxs) > 0:\n",
    "        new_idx = idxs.pop()\n",
    "        states_cat = np.concatenate((states_cat, states[new_idx]))\n",
    "        actions_cat = np.concatenate((actions_cat, actions[new_idx]))\n",
    "    return states_cat, actions_cat"
   ]
  },
  {
   "cell_type": "code",
   "execution_count": 26,
   "metadata": {},
   "outputs": [],
   "source": [
    "state1, act1 = sample_traj(states, actions, [traj_idxs[0]], 1)\n",
    "input_size = state1.shape[1]\n",
    "output_size = act1.shape[1]\n",
    "hidden_size = 3000\n",
    "hidden_num = 2\n",
    "activation = nn.ReLU\n",
    "bc_loss = nn.MSELoss()\n",
    "layers = [nn.Linear(input_size, hidden_size), activation()]\n",
    "for i in range(hidden_num-1):\n",
    "    layers.append(nn.Linear(hidden_size, hidden_size))\n",
    "    layers.append(activation())\n",
    "layers.append(nn.Linear(hidden_size, output_size))\n",
    "bc_nn = nn.Sequential(*layers)\n",
    "optimizer = torch.optim.Adam(bc_nn.parameters(), lr=1e-3)"
   ]
  },
  {
   "cell_type": "code",
   "execution_count": 27,
   "metadata": {},
   "outputs": [
    {
     "data": {
      "application/vnd.jupyter.widget-view+json": {
       "model_id": "7e2265e35e994cd0bee67e1e2a3e6b56",
       "version_major": 2,
       "version_minor": 0
      },
      "text/plain": [
       "HBox(children=(FloatProgress(value=0.0, max=2.0), HTML(value='')))"
      ]
     },
     "metadata": {},
     "output_type": "display_data"
    },
    {
     "data": {
      "application/vnd.jupyter.widget-view+json": {
       "model_id": "c9ba21328d884143809d4d48ba9b9820",
       "version_major": 2,
       "version_minor": 0
      },
      "text/plain": [
       "HBox(children=(FloatProgress(value=0.0, max=196.0), HTML(value='')))"
      ]
     },
     "metadata": {},
     "output_type": "display_data"
    },
    {
     "name": "stdout",
     "output_type": "stream",
     "text": [
      "\n"
     ]
    },
    {
     "data": {
      "application/vnd.jupyter.widget-view+json": {
       "model_id": "730fcadd0e1446169030c1d9f723da42",
       "version_major": 2,
       "version_minor": 0
      },
      "text/plain": [
       "HBox(children=(FloatProgress(value=0.0, max=196.0), HTML(value='')))"
      ]
     },
     "metadata": {},
     "output_type": "display_data"
    },
    {
     "name": "stdout",
     "output_type": "stream",
     "text": [
      "\n",
      "\n"
     ]
    }
   ],
   "source": [
    "train_iters = 2\n",
    "train_losses = []\n",
    "val_losses = []\n",
    "batch_size = 200\n",
    "val_batch_size = 200\n",
    "split = int(np.floor(.9*len(traj_idxs)))\n",
    "train_idxs = traj_idxs[:split]\n",
    "val_idxs = traj_idxs[split:]\n",
    "batches_per_epoch = split // batch_size\n",
    "\n",
    "for i in tqdm(range(train_iters)):\n",
    "    idxs = train_idxs[:]\n",
    "    random.shuffle(idxs)\n",
    "    val_shuffled = val_idxs[:]\n",
    "    random.shuffle(val_shuffled)\n",
    "    for j in tqdm(range(batches_per_epoch)):\n",
    "        optimizer.zero_grad()\n",
    "        s, a = sample_traj(states, actions, idxs[j*batch_size:(j+1)*batch_size], batch_size)\n",
    "        result = bc_nn(ptu.from_numpy(s))\n",
    "        loss = bc_loss(result, ptu.from_numpy(a))\n",
    "        loss.backward()\n",
    "        optimizer.step()\n",
    "        train_losses.append(loss.item())\n",
    "        val_s, val_a = sample_traj(states, actions, val_shuffled[:], val_batch_size)\n",
    "        val_losses.append(np.mean(np.square(ptu.to_numpy(bc_nn(ptu.from_numpy(val_s))) - val_a)))\n"
   ]
  },
  {
   "cell_type": "code",
   "execution_count": 28,
   "metadata": {},
   "outputs": [
    {
     "data": {
      "text/plain": [
       "Text(0.5, 1.0, 'MSE Of Actual vs Predicted Action (1100 lexemes)')"
      ]
     },
     "execution_count": 28,
     "metadata": {},
     "output_type": "execute_result"
    },
    {
     "data": {
      "image/png": "[encoded data removed]",
      "text/plain": [
       "<Figure size 432x288 with 1 Axes>"
      ]
     },
     "metadata": {
      "needs_background": "light"
     },
     "output_type": "display_data"
    }
   ],
   "source": [
    "plt.plot(train_losses[0:500], label='training')\n",
    "plt.plot(val_losses[0:500], label='validation')\n",
    "plt.yscale(\"log\")\n",
    "plt.title(\"MSE Of Actual vs Predicted Action (1100 lexemes)\")"
   ]
  },
  {
   "cell_type": "code",
   "execution_count": 24,
   "metadata": {},
   "outputs": [
    {
     "data": {
      "text/plain": [
       "(1103,)"
      ]
     },
     "execution_count": 24,
     "metadata": {},
     "output_type": "execute_result"
    }
   ],
   "source": [
    "actions[3][0, :].shape"
   ]
  },
  {
   "cell_type": "code",
   "execution_count": null,
   "metadata": {},
   "outputs": [],
   "source": [
    "min(bc_nn.forward(s))"
   ]
  },
  {
   "cell_type": "code",
   "execution_count": null,
   "metadata": {},
   "outputs": [],
   "source": []
  }
 ],
 "metadata": {
  "kernelspec": {
   "display_name": "Python 3",
   "language": "python",
   "name": "python3"
  },
  "language_info": {
   "codemirror_mode": {
    "name": "ipython",
    "version": 3
   },
   "file_extension": ".py",
   "mimetype": "text/x-python",
   "name": "python",
   "nbconvert_exporter": "python",
   "pygments_lexer": "ipython3",
   "version": "3.8.3"
  }
 },
 "nbformat": 4,
 "nbformat_minor": 4
}
